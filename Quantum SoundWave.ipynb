{
 "cells": [
  {
   "cell_type": "markdown",
   "metadata": {},
   "source": [
    "<h1>Quantum SoundWave</h1>\n",
    "<h4>By Kevin Li (<a href=mailto:bluekevin2003@gmail.com>bluekevin2003@gmail.com</a>, <a href=mailto:kjli@wisc.edu>kjli@wisc.edu</a>)</h4>"
   ]
  },
  {
   "cell_type": "code",
   "execution_count": null,
   "metadata": {},
   "outputs": [],
   "source": [
    "# Name: Kevin Li\n",
    "# School Email: kjli@wisc.edu\n",
    "# Personal Email: bluekevin2003@gmail.com\n",
    "# Last Updated: 10/23/2023\n",
    "# Version Number: 1.0.0"
   ]
  },
  {
   "cell_type": "markdown",
   "metadata": {},
   "source": [
    "Welcome to Quantum SoundWave. The intent of this program will be to use the properties of superpositioning and entanglement in qubits to produce sets of sound waves with various interesting properties. To start, we will import the standard Qiskit libraries as well as helpful modules."
   ]
  },
  {
   "cell_type": "code",
   "execution_count": null,
   "metadata": {},
   "outputs": [],
   "source": [
    "# Importing standard Qiskit libraries\n",
    "from qiskit import QuantumCircuit, transpile\n",
    "from qiskit.circuit import QuantumRegister\n",
    "from qiskit.tools.jupyter import *\n",
    "from qiskit.visualization import *\n",
    "from qiskit_aer import AerSimulator"
   ]
  },
  {
   "cell_type": "code",
   "execution_count": null,
   "metadata": {},
   "outputs": [],
   "source": [
    "# Importing general modules/libraries\n",
    "import math # https://docs.python.org/3/library/math.html\n",
    "import numpy as np # https://numpy.org/\n",
    "import pyaudio # https://people.csail.mit.edu/hubert/pyaudio/"
   ]
  },
  {
   "cell_type": "markdown",
   "metadata": {},
   "source": [
    "First, let us familiarize ourselves with sound waves. Let's create an example."
   ]
  },
  {
   "cell_type": "code",
   "execution_count": null,
   "metadata": {},
   "outputs": [],
   "source": [
    "\"\"\"Base code from https://stackoverflow.com/questions/8299303/generating-sine-wave-sound-in-python\n",
    "and https://stackoverflow.com/questions/9770073/sound-generation-synthesis-with-python\"\"\"\n",
    "\n",
    "# Initialize PyAudio stream\n",
    "frequency = 440.0 # 440 Hz (A4)\n",
    "sampling_rate = math.ceil(frequency * 100 + 100) # Frames per second where function is checked\n",
    "p = pyaudio.PyAudio()\n",
    "stream = p.open(\n",
    "    format=pyaudio.paFloat32,\n",
    "    rate=sampling_rate,\n",
    "    channels=1, # Number of channels from which sound can come from\n",
    "    output=True,\n",
    ")\n",
    "\n",
    "# Construct the sine wave\n",
    "amplitude = 0.5 # volume, range [0.0, 1.0]\n",
    "duration = 2.0 # 2 seconds\n",
    "wave = (amplitude * (np.sin(2 * np.pi * frequency * np.arange(duration * sampling_rate) / sampling_rate).astype(np.float32))).tobytes()\n",
    "\n",
    "\n",
    "# Play the sound\n",
    "stream.write(wave)\n",
    "\n",
    "# Close stream, terminate PyAudio to prevent memory leaks\n",
    "stream.stop_stream()\n",
    "stream.close()\n",
    "p.terminate()"
   ]
  },
  {
   "cell_type": "markdown",
   "metadata": {},
   "source": [
    "We can change the frequency variable to change the pitch, the amplitude variable to change the volume, and the duration variable to change the duration the sound wave is played. That's neat, what if we want to play multiple waves? We can add the wave functions together.\n",
    "\n",
    "Let's create a function for this."
   ]
  },
  {
   "cell_type": "code",
   "execution_count": null,
   "metadata": {},
   "outputs": [],
   "source": [
    "\n",
    "def playSound(count: int, frequencies: float | list[float], amplitudes: float | list[float], duration: float):\n",
    "    \"\"\"\n",
    "    Play the sound represented by one or more sine waves.\n",
    "    It is assumed that the length of the frequencies and amplitudes arguments equal to count.\n",
    "\n",
    "    :param count: number of wave functions\n",
    "    :param frequencies: frequency (Hz) of each wave function\n",
    "    :param amplitudes: amplitude [0.0, 1.0] of each wave function\n",
    "    :param duration: the time length to play the sound\n",
    "    \"\"\"\n",
    "\n",
    "    # Convert data types of frequencies and amplitudes to lists if they are single floats\n",
    "    if type(frequencies) == float:\n",
    "        frequencies = [frequencies]\n",
    "    if type(amplitudes) == float:\n",
    "        amplitudes = [amplitudes]\n",
    "\n",
    "    # Initialize PyAudio stream\n",
    "    sampling_rate = math.ceil(max(frequencies) * 100 + 100) # Frames per second where function is checked\n",
    "    p = pyaudio.PyAudio()\n",
    "    stream = p.open(\n",
    "        format=pyaudio.paFloat32,\n",
    "        rate=sampling_rate,\n",
    "        channels=1,\n",
    "        output=True,\n",
    "    )\n",
    "\n",
    "    # Construct the sine wave\n",
    "    wave = np.zeros(int(duration * sampling_rate), dtype=np.float32)\n",
    "    for i in range(count):\n",
    "        wave = wave + amplitudes[i] * (np.sin(2 * np.pi * frequencies[i] * np.arange(duration * sampling_rate) / sampling_rate).astype(np.float32))\n",
    "\n",
    "    # Play the sound\n",
    "    stream.write(wave.tobytes())\n",
    "\n",
    "    # Close stream, terminate PyAudio to prevent memory leaks\n",
    "    stream.stop_stream()\n",
    "    stream.close()\n",
    "    p.terminate()"
   ]
  },
  {
   "cell_type": "markdown",
   "metadata": {},
   "source": [
    "Now let's test it out!"
   ]
  },
  {
   "cell_type": "code",
   "execution_count": null,
   "metadata": {},
   "outputs": [],
   "source": [
    "playSound(2, (440.0, 660.0), (0.8, 0.2), 2.0) # A4, E5"
   ]
  },
  {
   "cell_type": "markdown",
   "metadata": {},
   "source": [
    "Warning: Make sure that the sum of the amplitudes don't exceed 1.0. Otherwise, you'll get something like this:"
   ]
  },
  {
   "cell_type": "code",
   "execution_count": null,
   "metadata": {},
   "outputs": [],
   "source": [
    "playSound(2, (440.0, 660.0), (0.8, 0.3), 2.0)"
   ]
  },
  {
   "cell_type": "markdown",
   "metadata": {},
   "source": [
    "Let's try incorporating qubits into this. Maybe we want the rotation of a qubit to determine the amplitude of the sound wave; for example, we may want to hear the sound the loudest if the qubit is in a $\\left|1\\right>$ state, but to not hear it at all if it is in a $\\left|0\\right>$ state. More precisely, if a qubit is in a state of $\\left|\\Psi\\right>$, we want an amplitude of 0.0 when $|\\Psi_1|^2=0$, 1.0 when $|\\Psi_1|^2=1$, and anything in between. Let's construct a quantum circuit:"
   ]
  },
  {
   "cell_type": "code",
   "execution_count": null,
   "metadata": {},
   "outputs": [],
   "source": [
    "qc = QuantumCircuit(3, 3) # q0 will be silent, q1 will be loud, q2 will be in between\n",
    "qc.x(1) # Flip q1 to |1>\n",
    "qc.h(2) # Flip q2 to |+> = sqrt(1/2)|0> + sqrt(1/2)|1>\n",
    "qc.measure([0, 1, 2], [0, 1, 2])"
   ]
  },
  {
   "cell_type": "markdown",
   "metadata": {},
   "source": [
    "Since measuring a qubit collapses the state into one of the standard basis states, we can determine the desired amplitude by measuring many qubits passing through the circuit."
   ]
  },
  {
   "cell_type": "code",
   "execution_count": null,
   "metadata": {},
   "outputs": [],
   "source": [
    "shots = 1000 # Number of measurements per qubit, increase for greater accuracy\n",
    "\n",
    "sim = AerSimulator()\n",
    "job = sim.run(qc, shots=shots)\n",
    "result = job.result()\n",
    "counts = result.get_counts()\n",
    "\n",
    "print(counts)"
   ]
  },
  {
   "cell_type": "markdown",
   "metadata": {},
   "source": [
    "Now let's divide each of the qubit measurement counts into the desired amplitudes (remember that Qiskit uses little-endian notation for qubits). We can create a function and invoke it for any set of measurements."
   ]
  },
  {
   "cell_type": "code",
   "execution_count": null,
   "metadata": {},
   "outputs": [],
   "source": [
    "def qubitsToAmplitudes(counts: dict[str, int], numQubitRegisters: int, shots: int) -> list[float]:\n",
    "    \"\"\"\n",
    "    Determine the amplitude of each sound wave based on its respective qubit measurement count.\n",
    "\n",
    "    :param numQubitRegisters: the number of qubit registers in the circuit\n",
    "    :param counts: the dictionary of measurements\n",
    "    :param shots: the number of shots used for the measurement counts\n",
    "    :return the list of amplitudes\n",
    "    \"\"\"\n",
    "    amps = [0.0] * numQubitRegisters\n",
    "    for i in counts:\n",
    "        for j in range(numQubitRegisters):\n",
    "            if int(i[-j - 1]) == 1:\n",
    "                amps[j] += counts[i]\n",
    "    for i in range(numQubitRegisters):\n",
    "        amps[i] /= shots\n",
    "    return amps\n",
    "\n",
    "amps = qubitsToAmplitudes(counts=counts, numQubitRegisters=3, shots=shots)\n",
    "print(amps)"
   ]
  },
  {
   "cell_type": "markdown",
   "metadata": {},
   "source": [
    "This will only be an approximation, but one can increase the accuracy by running more shots in the simulation measurement.\n",
    "\n",
    "Now let's play the respective sound waves:"
   ]
  },
  {
   "cell_type": "code",
   "execution_count": null,
   "metadata": {},
   "outputs": [],
   "source": [
    "playSound(1, 440.0, amps[0], 2.0) # q0, zero amplitude\n",
    "playSound(1, 440.0, amps[1], 2.0) # q1, full amplitude\n",
    "playSound(1, 440.0, amps[2], 2.0) # q2, about half amplitude"
   ]
  },
  {
   "cell_type": "markdown",
   "metadata": {},
   "source": [
    "We can do this for any qubit state. Here's a function for adding various gates to a quantum register. Feel free to download this notebook to add, remove, or change the gates as desired."
   ]
  },
  {
   "cell_type": "code",
   "execution_count": null,
   "metadata": {},
   "outputs": [],
   "source": [
    "def addVariousGates(qc: QuantumCircuit, qr: QuantumRegister):\n",
    "    # TODO: add, remove, and change gates below as desired\n",
    "    qc.h(qr)\n",
    "    qc.x(qr)\n",
    "    qc.sdg(qr)\n",
    "    qc.x(qr)\n",
    "    qc.h(qr)\n",
    "    qc.x(qr)\n",
    "    qc.p(0.69, qr)\n",
    "    qc.y(qr)\n",
    "    qc.h(qr)"
   ]
  },
  {
   "cell_type": "markdown",
   "metadata": {},
   "source": [
    "This is nice, but what else can we do with qubits?\n",
    "\n",
    "Suppose we want to play an interval or chord with matching volumes. We can use the entanglement property of qubits to our advantage."
   ]
  },
  {
   "cell_type": "code",
   "execution_count": null,
   "metadata": {},
   "outputs": [],
   "source": [
    "qc = QuantumCircuit(3, 3)\n",
    "addVariousGates(qc, qc.qubits[0]) # Add gates to register q0\n",
    "qc.cx(0, 1) # Entangle q0 and q1\n",
    "qc.cx(0, 2) # Entangle q0 and q2\n",
    "qc.measure([0, 1, 2], [0, 1, 2])\n",
    "\n",
    "job = sim.run(qc, shots=shots)\n",
    "result = job.result()\n",
    "counts = result.get_counts()\n",
    "\n",
    "print(counts)"
   ]
  },
  {
   "cell_type": "markdown",
   "metadata": {},
   "source": [
    "The amplitudes will be the same:"
   ]
  },
  {
   "cell_type": "code",
   "execution_count": null,
   "metadata": {},
   "outputs": [],
   "source": [
    "amps = qubitsToAmplitudes(counts=counts, numQubitRegisters=3, shots=shots)\n",
    "print(amps)"
   ]
  },
  {
   "cell_type": "code",
   "execution_count": null,
   "metadata": {},
   "outputs": [],
   "source": [
    "playSound(3, [440.0, 523.25, 666.0], amps, 2.0) # a minor chord"
   ]
  },
  {
   "cell_type": "markdown",
   "metadata": {},
   "source": [
    "Side note: You can also have negative amplitudes for your sound waves:"
   ]
  },
  {
   "cell_type": "code",
   "execution_count": null,
   "metadata": {},
   "outputs": [],
   "source": [
    "playSound(2, (440.0, 660.0), (0.4, -0.5), 2.0)"
   ]
  },
  {
   "cell_type": "markdown",
   "metadata": {},
   "source": [
    "Then, if you were to put two sound waves with the same frequency together, they would interfere with each other either constructively or destructively, depending on their amplitudes."
   ]
  },
  {
   "cell_type": "code",
   "execution_count": null,
   "metadata": {},
   "outputs": [],
   "source": [
    "playSound(2, (440.0, 440.0), (0.5, 0.5), 2.0) # Constructive, magnitude of total amplitude = 1.0\n",
    "playSound(2, (440.0, 440.0), (0.5, -0.5), 2.0) # Destructive, magnitude of total amplitude = 0.0 (silent)\n",
    "playSound(2, (440.0, 440.0), (-0.5, -0.5), 2.0) # Constructive, magnitude of total amplitude = 1.0"
   ]
  },
  {
   "cell_type": "markdown",
   "metadata": {},
   "source": [
    "Now, let's try this with a quantum system.\n",
    "\n",
    "We'll need to update qubitsToAmplitudes. This time, we want the amplitude to equal to $|\\Psi_1|^2-|\\Psi_0|^2$. Thus, for each qubit measured, we want to add to the amplitude when a 1 is measured, and subtract to the amplitude when a 0 is measured."
   ]
  },
  {
   "cell_type": "code",
   "execution_count": null,
   "metadata": {},
   "outputs": [],
   "source": [
    "def qubitsToAmplitudesUpdated(counts: dict[str, int], numQubitRegisters: int, shots: int) -> list[float]:\n",
    "    \"\"\"\n",
    "    Determine the amplitude of each sound wave based on its respective qubit measurement count.\n",
    "    Negative amplitudes are included.\n",
    "\n",
    "    :param numQubitRegisters: the number of qubit registers in the circuit\n",
    "    :param counts: the dictionary of measurements\n",
    "    :param shots: the number of shots used for the measurement counts\n",
    "    :return the list of amplitudes\n",
    "    \"\"\"\n",
    "    amps = [0.0] * numQubitRegisters\n",
    "    for i in counts:\n",
    "        for j in range(numQubitRegisters):\n",
    "            if int(i[-j - 1]) == 1:\n",
    "                amps[j] += counts[i]\n",
    "            else:\n",
    "                amps[j] -= counts[i]\n",
    "    for i in range(numQubitRegisters):\n",
    "        amps[i] /= shots\n",
    "    return amps"
   ]
  },
  {
   "cell_type": "markdown",
   "metadata": {},
   "source": [
    "Here's constructive interference..."
   ]
  },
  {
   "cell_type": "code",
   "execution_count": null,
   "metadata": {},
   "outputs": [],
   "source": [
    "qc = QuantumCircuit(2, 2)\n",
    "qc.ry(2.0, 0) # Sample gate: ensure q0 amplitude will be sufficiently positive but not exceed 0.5\n",
    "qc.cx(0, 1)\n",
    "qc.measure([0, 1], [0, 1])\n",
    "\n",
    "job = sim.run(qc, shots=shots)\n",
    "result = job.result()\n",
    "counts = result.get_counts()\n",
    "\n",
    "amps = qubitsToAmplitudesUpdated(counts=counts, numQubitRegisters=2, shots=shots)\n",
    "if (amps[0] + amps[1] > 1.0):\n",
    "    # Prevent total amplitude from exceeding 1.0 in edge cases\n",
    "    diff = (amps[0] + amps[1] - 1.0) / 2.0\n",
    "    amps[0] -= diff\n",
    "    amps[1] -= diff\n",
    "print(amps)\n",
    "\n",
    "# The soundwave by itself\n",
    "playSound(1, 440.0, amps[0], 2.0)\n",
    "\n",
    "# These two should be equivalent\n",
    "playSound(2, [440.0, 440.0], amps, 2.0)\n",
    "playSound(1, 440.0, sum(amps), 2.0)"
   ]
  },
  {
   "cell_type": "markdown",
   "metadata": {},
   "source": [
    "and destructive interference..."
   ]
  },
  {
   "cell_type": "code",
   "execution_count": null,
   "metadata": {},
   "outputs": [],
   "source": [
    "qc = QuantumCircuit(2, 2)\n",
    "qc.ry(2.0, 0)\n",
    "qc.x(1) # NOT gate on q1\n",
    "qc.cx(0, 1)\n",
    "qc.measure([0, 1], [0, 1])\n",
    "\n",
    "job = sim.run(qc, shots=shots)\n",
    "result = job.result()\n",
    "counts = result.get_counts()\n",
    "\n",
    "amps = qubitsToAmplitudesUpdated(counts=counts, numQubitRegisters=2, shots=shots)\n",
    "print(amps)\n",
    "\n",
    "# The soundwave by itself\n",
    "playSound(1, 440.0, amps[0], 2.0)\n",
    "\n",
    "# These two should be equivalent (and silent)\n",
    "playSound(2, [440.0, 440.0], amps, 2.0)\n",
    "playSound(1, 440.0, sum(amps), 2.0)"
   ]
  },
  {
   "cell_type": "markdown",
   "metadata": {},
   "source": [
    "Ideally, we would be able to use exploit more properties of qubits to sound waves, such as continuously and dynamically changing the amplitudes as we change the quantum circuit or make new measurements on qubit streams, or having the qubits determine the frequencies instead.\n",
    "\n",
    "Unfortunately, due to limitations in Qiskit, Python, and time, this project will not delve into those prospects into depth. Regardless, I hope you enjoyed this exploration into connecting qubits and sound waves. Thank you for taking the time to read, listen, and run this! I hope you have a great day.\n",
    "\n",
    "Bonus: try running the below code a few times. (Note: since the quantum circuit produced is random, it will sometimes produce an error message when finding the running the circuit and obtaining the results.) What sounds did you get?"
   ]
  },
  {
   "cell_type": "code",
   "execution_count": null,
   "metadata": {},
   "outputs": [],
   "source": [
    "from qiskit.circuit.random import random_circuit\n",
    "\n",
    "def qubitsToFrequencies(counts: dict[str, int], numQubitRegisters: int, shots: int) -> list[float]:\n",
    "    \"\"\"\n",
    "    Determine the frequency of each sound wave based on its respective qubit measurement count.\n",
    "\n",
    "    :param numQubitRegisters: the number of qubit registers in the circuit\n",
    "    :param counts: the dictionary of measurements\n",
    "    :param shots: the number of shots used for the measurement counts\n",
    "    :return the list of frequency\n",
    "    \"\"\"\n",
    "    freqs = [0.0] * numQubitRegisters\n",
    "    for i in counts:\n",
    "        for j in range(numQubitRegisters):\n",
    "            if int(i[-j - 1]) == 1:\n",
    "                freqs[j] += counts[i]\n",
    "    for i in range(numQubitRegisters):\n",
    "        freqs[i] = freqs[i] * 440.0 / shots + 440.0 # All results will be between A4 and A5, inclusive\n",
    "    return freqs\n",
    "\n",
    "qc = random_circuit(2, 3, measure=True, max_operands=1)\n",
    "job = sim.run(qc, shots=shots)\n",
    "result = job.result()\n",
    "counts = result.get_counts()\n",
    "freqs = qubitsToFrequencies(counts=counts, numQubitRegisters=2, shots=shots)\n",
    "print(freqs)\n",
    "playSound(2, freqs, [0.3, 0.3], 2.0)"
   ]
  }
 ],
 "metadata": {
  "kernelspec": {
   "display_name": "env_name",
   "language": "python",
   "name": "python3"
  },
  "language_info": {
   "codemirror_mode": {
    "name": "ipython",
    "version": 3
   },
   "file_extension": ".py",
   "mimetype": "text/x-python",
   "name": "python",
   "nbconvert_exporter": "python",
   "pygments_lexer": "ipython3",
   "version": "3.11.0"
  },
  "orig_nbformat": 4
 },
 "nbformat": 4,
 "nbformat_minor": 2
}
